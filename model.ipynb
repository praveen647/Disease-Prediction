{
 "cells": [
  {
   "cell_type": "markdown",
   "id": "aa4ad1d0-cdd2-404e-b2aa-69b3d451dcec",
   "metadata": {},
   "source": [
    "# Importing the Libraries"
   ]
  },
  {
   "cell_type": "code",
   "execution_count": 1,
   "id": "1f9a7c58-144b-4e98-a552-03104df97402",
   "metadata": {},
   "outputs": [],
   "source": [
    "import pandas as pd\n",
    "import numpy as np\n",
    "import tensorflow as tf"
   ]
  },
  {
   "cell_type": "markdown",
   "id": "08ea5bbe-5205-40ba-9265-537ec2f607d5",
   "metadata": {},
   "source": [
    "## \n",
    "## Importing the Dataset"
   ]
  },
  {
   "cell_type": "code",
   "execution_count": 2,
   "id": "f3c1282b-2638-478d-b8c8-862583a5a38b",
   "metadata": {},
   "outputs": [],
   "source": [
    "df = pd.read_csv(\"Training.csv\")"
   ]
  },
  {
   "cell_type": "code",
   "execution_count": 3,
   "id": "674a51c4-0cb8-47c6-b749-7573da2238af",
   "metadata": {},
   "outputs": [
    {
     "data": {
      "text/html": [
       "<div>\n",
       "<style scoped>\n",
       "    .dataframe tbody tr th:only-of-type {\n",
       "        vertical-align: middle;\n",
       "    }\n",
       "\n",
       "    .dataframe tbody tr th {\n",
       "        vertical-align: top;\n",
       "    }\n",
       "\n",
       "    .dataframe thead th {\n",
       "        text-align: right;\n",
       "    }\n",
       "</style>\n",
       "<table border=\"1\" class=\"dataframe\">\n",
       "  <thead>\n",
       "    <tr style=\"text-align: right;\">\n",
       "      <th></th>\n",
       "      <th>itching</th>\n",
       "      <th>skin_rash</th>\n",
       "      <th>nodal_skin_eruptions</th>\n",
       "      <th>continuous_sneezing</th>\n",
       "      <th>shivering</th>\n",
       "      <th>chills</th>\n",
       "      <th>joint_pain</th>\n",
       "      <th>stomach_pain</th>\n",
       "      <th>acidity</th>\n",
       "      <th>ulcers_on_tongue</th>\n",
       "      <th>...</th>\n",
       "      <th>scurring</th>\n",
       "      <th>skin_peeling</th>\n",
       "      <th>silver_like_dusting</th>\n",
       "      <th>small_dents_in_nails</th>\n",
       "      <th>inflammatory_nails</th>\n",
       "      <th>blister</th>\n",
       "      <th>red_sore_around_nose</th>\n",
       "      <th>yellow_crust_ooze</th>\n",
       "      <th>prognosis</th>\n",
       "      <th>Unnamed: 133</th>\n",
       "    </tr>\n",
       "  </thead>\n",
       "  <tbody>\n",
       "    <tr>\n",
       "      <th>0</th>\n",
       "      <td>1</td>\n",
       "      <td>1</td>\n",
       "      <td>1</td>\n",
       "      <td>0</td>\n",
       "      <td>0</td>\n",
       "      <td>0</td>\n",
       "      <td>0</td>\n",
       "      <td>0</td>\n",
       "      <td>0</td>\n",
       "      <td>0</td>\n",
       "      <td>...</td>\n",
       "      <td>0</td>\n",
       "      <td>0</td>\n",
       "      <td>0</td>\n",
       "      <td>0</td>\n",
       "      <td>0</td>\n",
       "      <td>0</td>\n",
       "      <td>0</td>\n",
       "      <td>0</td>\n",
       "      <td>Fungal infection</td>\n",
       "      <td>NaN</td>\n",
       "    </tr>\n",
       "    <tr>\n",
       "      <th>1</th>\n",
       "      <td>0</td>\n",
       "      <td>1</td>\n",
       "      <td>1</td>\n",
       "      <td>0</td>\n",
       "      <td>0</td>\n",
       "      <td>0</td>\n",
       "      <td>0</td>\n",
       "      <td>0</td>\n",
       "      <td>0</td>\n",
       "      <td>0</td>\n",
       "      <td>...</td>\n",
       "      <td>0</td>\n",
       "      <td>0</td>\n",
       "      <td>0</td>\n",
       "      <td>0</td>\n",
       "      <td>0</td>\n",
       "      <td>0</td>\n",
       "      <td>0</td>\n",
       "      <td>0</td>\n",
       "      <td>Fungal infection</td>\n",
       "      <td>NaN</td>\n",
       "    </tr>\n",
       "    <tr>\n",
       "      <th>2</th>\n",
       "      <td>1</td>\n",
       "      <td>0</td>\n",
       "      <td>1</td>\n",
       "      <td>0</td>\n",
       "      <td>0</td>\n",
       "      <td>0</td>\n",
       "      <td>0</td>\n",
       "      <td>0</td>\n",
       "      <td>0</td>\n",
       "      <td>0</td>\n",
       "      <td>...</td>\n",
       "      <td>0</td>\n",
       "      <td>0</td>\n",
       "      <td>0</td>\n",
       "      <td>0</td>\n",
       "      <td>0</td>\n",
       "      <td>0</td>\n",
       "      <td>0</td>\n",
       "      <td>0</td>\n",
       "      <td>Fungal infection</td>\n",
       "      <td>NaN</td>\n",
       "    </tr>\n",
       "    <tr>\n",
       "      <th>3</th>\n",
       "      <td>1</td>\n",
       "      <td>1</td>\n",
       "      <td>0</td>\n",
       "      <td>0</td>\n",
       "      <td>0</td>\n",
       "      <td>0</td>\n",
       "      <td>0</td>\n",
       "      <td>0</td>\n",
       "      <td>0</td>\n",
       "      <td>0</td>\n",
       "      <td>...</td>\n",
       "      <td>0</td>\n",
       "      <td>0</td>\n",
       "      <td>0</td>\n",
       "      <td>0</td>\n",
       "      <td>0</td>\n",
       "      <td>0</td>\n",
       "      <td>0</td>\n",
       "      <td>0</td>\n",
       "      <td>Fungal infection</td>\n",
       "      <td>NaN</td>\n",
       "    </tr>\n",
       "    <tr>\n",
       "      <th>4</th>\n",
       "      <td>1</td>\n",
       "      <td>1</td>\n",
       "      <td>1</td>\n",
       "      <td>0</td>\n",
       "      <td>0</td>\n",
       "      <td>0</td>\n",
       "      <td>0</td>\n",
       "      <td>0</td>\n",
       "      <td>0</td>\n",
       "      <td>0</td>\n",
       "      <td>...</td>\n",
       "      <td>0</td>\n",
       "      <td>0</td>\n",
       "      <td>0</td>\n",
       "      <td>0</td>\n",
       "      <td>0</td>\n",
       "      <td>0</td>\n",
       "      <td>0</td>\n",
       "      <td>0</td>\n",
       "      <td>Fungal infection</td>\n",
       "      <td>NaN</td>\n",
       "    </tr>\n",
       "  </tbody>\n",
       "</table>\n",
       "<p>5 rows × 134 columns</p>\n",
       "</div>"
      ],
      "text/plain": [
       "   itching  skin_rash  nodal_skin_eruptions  continuous_sneezing  shivering  \\\n",
       "0        1          1                     1                    0          0   \n",
       "1        0          1                     1                    0          0   \n",
       "2        1          0                     1                    0          0   \n",
       "3        1          1                     0                    0          0   \n",
       "4        1          1                     1                    0          0   \n",
       "\n",
       "   chills  joint_pain  stomach_pain  acidity  ulcers_on_tongue  ...  scurring  \\\n",
       "0       0           0             0        0                 0  ...         0   \n",
       "1       0           0             0        0                 0  ...         0   \n",
       "2       0           0             0        0                 0  ...         0   \n",
       "3       0           0             0        0                 0  ...         0   \n",
       "4       0           0             0        0                 0  ...         0   \n",
       "\n",
       "   skin_peeling  silver_like_dusting  small_dents_in_nails  \\\n",
       "0             0                    0                     0   \n",
       "1             0                    0                     0   \n",
       "2             0                    0                     0   \n",
       "3             0                    0                     0   \n",
       "4             0                    0                     0   \n",
       "\n",
       "   inflammatory_nails  blister  red_sore_around_nose  yellow_crust_ooze  \\\n",
       "0                   0        0                     0                  0   \n",
       "1                   0        0                     0                  0   \n",
       "2                   0        0                     0                  0   \n",
       "3                   0        0                     0                  0   \n",
       "4                   0        0                     0                  0   \n",
       "\n",
       "          prognosis  Unnamed: 133  \n",
       "0  Fungal infection           NaN  \n",
       "1  Fungal infection           NaN  \n",
       "2  Fungal infection           NaN  \n",
       "3  Fungal infection           NaN  \n",
       "4  Fungal infection           NaN  \n",
       "\n",
       "[5 rows x 134 columns]"
      ]
     },
     "execution_count": 3,
     "metadata": {},
     "output_type": "execute_result"
    }
   ],
   "source": [
    "df.head()"
   ]
  },
  {
   "cell_type": "code",
   "execution_count": 4,
   "id": "437c72c0-70c0-4d23-be4f-6bafc8362487",
   "metadata": {},
   "outputs": [
    {
     "data": {
      "text/plain": [
       "Index(['itching', 'skin_rash', 'nodal_skin_eruptions', 'continuous_sneezing',\n",
       "       'shivering', 'chills', 'joint_pain', 'stomach_pain', 'acidity',\n",
       "       'ulcers_on_tongue',\n",
       "       ...\n",
       "       'scurring', 'skin_peeling', 'silver_like_dusting',\n",
       "       'small_dents_in_nails', 'inflammatory_nails', 'blister',\n",
       "       'red_sore_around_nose', 'yellow_crust_ooze', 'prognosis',\n",
       "       'Unnamed: 133'],\n",
       "      dtype='object', length=134)"
      ]
     },
     "execution_count": 4,
     "metadata": {},
     "output_type": "execute_result"
    }
   ],
   "source": [
    "df.columns"
   ]
  },
  {
   "cell_type": "code",
   "execution_count": 5,
   "id": "aa640f35-64a2-440b-8fbe-78aadb715d2c",
   "metadata": {},
   "outputs": [
    {
     "data": {
      "text/plain": [
       "<bound method DataFrame.info of       itching  skin_rash  nodal_skin_eruptions  continuous_sneezing  \\\n",
       "0           1          1                     1                    0   \n",
       "1           0          1                     1                    0   \n",
       "2           1          0                     1                    0   \n",
       "3           1          1                     0                    0   \n",
       "4           1          1                     1                    0   \n",
       "...       ...        ...                   ...                  ...   \n",
       "4915        0          0                     0                    0   \n",
       "4916        0          1                     0                    0   \n",
       "4917        0          0                     0                    0   \n",
       "4918        0          1                     0                    0   \n",
       "4919        0          1                     0                    0   \n",
       "\n",
       "      shivering  chills  joint_pain  stomach_pain  acidity  ulcers_on_tongue  \\\n",
       "0             0       0           0             0        0                 0   \n",
       "1             0       0           0             0        0                 0   \n",
       "2             0       0           0             0        0                 0   \n",
       "3             0       0           0             0        0                 0   \n",
       "4             0       0           0             0        0                 0   \n",
       "...         ...     ...         ...           ...      ...               ...   \n",
       "4915          0       0           0             0        0                 0   \n",
       "4916          0       0           0             0        0                 0   \n",
       "4917          0       0           0             0        0                 0   \n",
       "4918          0       0           1             0        0                 0   \n",
       "4919          0       0           0             0        0                 0   \n",
       "\n",
       "      ...  scurring  skin_peeling  silver_like_dusting  small_dents_in_nails  \\\n",
       "0     ...         0             0                    0                     0   \n",
       "1     ...         0             0                    0                     0   \n",
       "2     ...         0             0                    0                     0   \n",
       "3     ...         0             0                    0                     0   \n",
       "4     ...         0             0                    0                     0   \n",
       "...   ...       ...           ...                  ...                   ...   \n",
       "4915  ...         0             0                    0                     0   \n",
       "4916  ...         1             0                    0                     0   \n",
       "4917  ...         0             0                    0                     0   \n",
       "4918  ...         0             1                    1                     1   \n",
       "4919  ...         0             0                    0                     0   \n",
       "\n",
       "      inflammatory_nails  blister  red_sore_around_nose  yellow_crust_ooze  \\\n",
       "0                      0        0                     0                  0   \n",
       "1                      0        0                     0                  0   \n",
       "2                      0        0                     0                  0   \n",
       "3                      0        0                     0                  0   \n",
       "4                      0        0                     0                  0   \n",
       "...                  ...      ...                   ...                ...   \n",
       "4915                   0        0                     0                  0   \n",
       "4916                   0        0                     0                  0   \n",
       "4917                   0        0                     0                  0   \n",
       "4918                   1        0                     0                  0   \n",
       "4919                   0        1                     1                  1   \n",
       "\n",
       "                                    prognosis  Unnamed: 133  \n",
       "0                            Fungal infection           NaN  \n",
       "1                            Fungal infection           NaN  \n",
       "2                            Fungal infection           NaN  \n",
       "3                            Fungal infection           NaN  \n",
       "4                            Fungal infection           NaN  \n",
       "...                                       ...           ...  \n",
       "4915  (vertigo) Paroymsal  Positional Vertigo           NaN  \n",
       "4916                                     Acne           NaN  \n",
       "4917                  Urinary tract infection           NaN  \n",
       "4918                                Psoriasis           NaN  \n",
       "4919                                 Impetigo           NaN  \n",
       "\n",
       "[4920 rows x 134 columns]>"
      ]
     },
     "execution_count": 5,
     "metadata": {},
     "output_type": "execute_result"
    }
   ],
   "source": [
    "df.info"
   ]
  },
  {
   "cell_type": "markdown",
   "id": "e162a559-860b-4bcd-bbe3-613ea860867d",
   "metadata": {},
   "source": [
    "##\n",
    "# Data Preprocessing"
   ]
  },
  {
   "cell_type": "code",
   "execution_count": 6,
   "id": "08ada442-9fa5-4731-bb1a-3354e2543e9a",
   "metadata": {},
   "outputs": [],
   "source": [
    "from sklearn.model_selection import train_test_split"
   ]
  },
  {
   "cell_type": "code",
   "execution_count": 7,
   "id": "c70e9840-ff36-4298-89ad-5497c7606839",
   "metadata": {},
   "outputs": [],
   "source": [
    "df = df.iloc[:,:-1]"
   ]
  },
  {
   "cell_type": "code",
   "execution_count": 8,
   "id": "a164aa78-fff1-4802-bc7b-cd7602276768",
   "metadata": {},
   "outputs": [
    {
     "data": {
      "text/plain": [
       "0    Fungal infection\n",
       "1    Fungal infection\n",
       "2    Fungal infection\n",
       "3    Fungal infection\n",
       "4    Fungal infection\n",
       "Name: prognosis, dtype: object"
      ]
     },
     "execution_count": 8,
     "metadata": {},
     "output_type": "execute_result"
    }
   ],
   "source": [
    "x = df.iloc[:,:-1]\n",
    "y = df.iloc[:,-1]\n",
    "y.head()"
   ]
  },
  {
   "cell_type": "code",
   "execution_count": 9,
   "id": "548d5927-c3fd-4fd9-8941-a4d62f4234b5",
   "metadata": {},
   "outputs": [
    {
     "data": {
      "text/plain": [
       "40"
      ]
     },
     "execution_count": 9,
     "metadata": {},
     "output_type": "execute_result"
    }
   ],
   "source": [
    "from sklearn.preprocessing import LabelEncoder\n",
    "from tensorflow.keras.utils import to_categorical\n",
    "\n",
    "# Example labels (categorical)\n",
    "\n",
    "# Convert to integer labels using LabelEncoder\n",
    "label_encoder = LabelEncoder()\n",
    "y_encoded = label_encoder.fit_transform(y)\n",
    "\n",
    "np.max(y_encoded)\n",
    "# Now, you can use these integer labels in your model\n"
   ]
  },
  {
   "cell_type": "code",
   "execution_count": 10,
   "id": "89c543e7-84eb-4448-8256-57c4dc53abf0",
   "metadata": {},
   "outputs": [
    {
     "data": {
      "text/plain": [
       "((3444, 132), (3444,), (1476,), (1476, 132))"
      ]
     },
     "execution_count": 10,
     "metadata": {},
     "output_type": "execute_result"
    }
   ],
   "source": [
    "xtrain,xtest,ytrain,ytest = train_test_split(x,y_encoded,test_size=0.3)\n",
    "xtrain.shape,ytrain.shape,ytest.shape,xtest.shape"
   ]
  },
  {
   "cell_type": "code",
   "execution_count": 14,
   "id": "3e4c9abd-9bc7-4dba-b75b-a39db03f29f0",
   "metadata": {},
   "outputs": [],
   "source": [
    "import nltk\n",
    "from nltk.stem import WordNetLemmatizer\n",
    "from tensorflow.keras.models import Sequential\n",
    "from tensorflow.keras.layers import Dense, Dropout\n",
    "from tensorflow.keras.optimizers import SGD\n",
    "import numpy as np\n"
   ]
  },
  {
   "cell_type": "code",
   "execution_count": 15,
   "id": "2682424c-5ab6-4e2a-a70c-b1cbc5417b5e",
   "metadata": {},
   "outputs": [
    {
     "data": {
      "text/html": [
       "<div>\n",
       "<style scoped>\n",
       "    .dataframe tbody tr th:only-of-type {\n",
       "        vertical-align: middle;\n",
       "    }\n",
       "\n",
       "    .dataframe tbody tr th {\n",
       "        vertical-align: top;\n",
       "    }\n",
       "\n",
       "    .dataframe thead th {\n",
       "        text-align: right;\n",
       "    }\n",
       "</style>\n",
       "<table border=\"1\" class=\"dataframe\">\n",
       "  <thead>\n",
       "    <tr style=\"text-align: right;\">\n",
       "      <th></th>\n",
       "      <th>itching</th>\n",
       "      <th>skin_rash</th>\n",
       "      <th>nodal_skin_eruptions</th>\n",
       "      <th>continuous_sneezing</th>\n",
       "      <th>shivering</th>\n",
       "      <th>chills</th>\n",
       "      <th>joint_pain</th>\n",
       "      <th>stomach_pain</th>\n",
       "      <th>acidity</th>\n",
       "      <th>ulcers_on_tongue</th>\n",
       "      <th>...</th>\n",
       "      <th>pus_filled_pimples</th>\n",
       "      <th>blackheads</th>\n",
       "      <th>scurring</th>\n",
       "      <th>skin_peeling</th>\n",
       "      <th>silver_like_dusting</th>\n",
       "      <th>small_dents_in_nails</th>\n",
       "      <th>inflammatory_nails</th>\n",
       "      <th>blister</th>\n",
       "      <th>red_sore_around_nose</th>\n",
       "      <th>yellow_crust_ooze</th>\n",
       "    </tr>\n",
       "  </thead>\n",
       "  <tbody>\n",
       "    <tr>\n",
       "      <th>1524</th>\n",
       "      <td>0</td>\n",
       "      <td>0</td>\n",
       "      <td>0</td>\n",
       "      <td>0</td>\n",
       "      <td>0</td>\n",
       "      <td>0</td>\n",
       "      <td>0</td>\n",
       "      <td>0</td>\n",
       "      <td>0</td>\n",
       "      <td>0</td>\n",
       "      <td>...</td>\n",
       "      <td>0</td>\n",
       "      <td>0</td>\n",
       "      <td>0</td>\n",
       "      <td>0</td>\n",
       "      <td>0</td>\n",
       "      <td>0</td>\n",
       "      <td>0</td>\n",
       "      <td>0</td>\n",
       "      <td>0</td>\n",
       "      <td>0</td>\n",
       "    </tr>\n",
       "    <tr>\n",
       "      <th>674</th>\n",
       "      <td>0</td>\n",
       "      <td>0</td>\n",
       "      <td>0</td>\n",
       "      <td>1</td>\n",
       "      <td>0</td>\n",
       "      <td>1</td>\n",
       "      <td>0</td>\n",
       "      <td>0</td>\n",
       "      <td>0</td>\n",
       "      <td>0</td>\n",
       "      <td>...</td>\n",
       "      <td>0</td>\n",
       "      <td>0</td>\n",
       "      <td>0</td>\n",
       "      <td>0</td>\n",
       "      <td>0</td>\n",
       "      <td>0</td>\n",
       "      <td>0</td>\n",
       "      <td>0</td>\n",
       "      <td>0</td>\n",
       "      <td>0</td>\n",
       "    </tr>\n",
       "    <tr>\n",
       "      <th>2405</th>\n",
       "      <td>0</td>\n",
       "      <td>0</td>\n",
       "      <td>0</td>\n",
       "      <td>0</td>\n",
       "      <td>0</td>\n",
       "      <td>0</td>\n",
       "      <td>0</td>\n",
       "      <td>0</td>\n",
       "      <td>0</td>\n",
       "      <td>0</td>\n",
       "      <td>...</td>\n",
       "      <td>0</td>\n",
       "      <td>0</td>\n",
       "      <td>0</td>\n",
       "      <td>0</td>\n",
       "      <td>0</td>\n",
       "      <td>0</td>\n",
       "      <td>0</td>\n",
       "      <td>0</td>\n",
       "      <td>0</td>\n",
       "      <td>0</td>\n",
       "    </tr>\n",
       "    <tr>\n",
       "      <th>444</th>\n",
       "      <td>1</td>\n",
       "      <td>0</td>\n",
       "      <td>0</td>\n",
       "      <td>0</td>\n",
       "      <td>0</td>\n",
       "      <td>0</td>\n",
       "      <td>0</td>\n",
       "      <td>0</td>\n",
       "      <td>0</td>\n",
       "      <td>0</td>\n",
       "      <td>...</td>\n",
       "      <td>0</td>\n",
       "      <td>0</td>\n",
       "      <td>0</td>\n",
       "      <td>0</td>\n",
       "      <td>0</td>\n",
       "      <td>0</td>\n",
       "      <td>0</td>\n",
       "      <td>0</td>\n",
       "      <td>0</td>\n",
       "      <td>0</td>\n",
       "    </tr>\n",
       "    <tr>\n",
       "      <th>2296</th>\n",
       "      <td>0</td>\n",
       "      <td>0</td>\n",
       "      <td>0</td>\n",
       "      <td>0</td>\n",
       "      <td>0</td>\n",
       "      <td>0</td>\n",
       "      <td>0</td>\n",
       "      <td>0</td>\n",
       "      <td>0</td>\n",
       "      <td>0</td>\n",
       "      <td>...</td>\n",
       "      <td>0</td>\n",
       "      <td>0</td>\n",
       "      <td>0</td>\n",
       "      <td>0</td>\n",
       "      <td>0</td>\n",
       "      <td>0</td>\n",
       "      <td>0</td>\n",
       "      <td>0</td>\n",
       "      <td>0</td>\n",
       "      <td>0</td>\n",
       "    </tr>\n",
       "  </tbody>\n",
       "</table>\n",
       "<p>5 rows × 132 columns</p>\n",
       "</div>"
      ],
      "text/plain": [
       "      itching  skin_rash  nodal_skin_eruptions  continuous_sneezing  \\\n",
       "1524        0          0                     0                    0   \n",
       "674         0          0                     0                    1   \n",
       "2405        0          0                     0                    0   \n",
       "444         1          0                     0                    0   \n",
       "2296        0          0                     0                    0   \n",
       "\n",
       "      shivering  chills  joint_pain  stomach_pain  acidity  ulcers_on_tongue  \\\n",
       "1524          0       0           0             0        0                 0   \n",
       "674           0       1           0             0        0                 0   \n",
       "2405          0       0           0             0        0                 0   \n",
       "444           0       0           0             0        0                 0   \n",
       "2296          0       0           0             0        0                 0   \n",
       "\n",
       "      ...  pus_filled_pimples  blackheads  scurring  skin_peeling  \\\n",
       "1524  ...                   0           0         0             0   \n",
       "674   ...                   0           0         0             0   \n",
       "2405  ...                   0           0         0             0   \n",
       "444   ...                   0           0         0             0   \n",
       "2296  ...                   0           0         0             0   \n",
       "\n",
       "      silver_like_dusting  small_dents_in_nails  inflammatory_nails  blister  \\\n",
       "1524                    0                     0                   0        0   \n",
       "674                     0                     0                   0        0   \n",
       "2405                    0                     0                   0        0   \n",
       "444                     0                     0                   0        0   \n",
       "2296                    0                     0                   0        0   \n",
       "\n",
       "      red_sore_around_nose  yellow_crust_ooze  \n",
       "1524                     0                  0  \n",
       "674                      0                  0  \n",
       "2405                     0                  0  \n",
       "444                      0                  0  \n",
       "2296                     0                  0  \n",
       "\n",
       "[5 rows x 132 columns]"
      ]
     },
     "execution_count": 15,
     "metadata": {},
     "output_type": "execute_result"
    }
   ],
   "source": [
    "xtrain.head()"
   ]
  },
  {
   "cell_type": "code",
   "execution_count": 16,
   "id": "22455b49-a9cb-42b5-b3f7-d030e6d1e938",
   "metadata": {},
   "outputs": [],
   "source": [
    "xtrain = np.array(xtrain, dtype=np.float32)\n",
    "xtest = np.array(xtest, dtype=np.float32)\n",
    "ytrain = np.array(ytrain, dtype=np.int32)\n",
    "ytest = np.array(ytest, dtype=np.int32)"
   ]
  },
  {
   "cell_type": "markdown",
   "id": "a7b1503b-fe61-4ff4-8c10-16a6e66e5669",
   "metadata": {},
   "source": [
    "##\n",
    "# Model Development"
   ]
  },
  {
   "cell_type": "code",
   "execution_count": 17,
   "id": "1b9aabe5-8ad6-48d2-a6cf-3c241710a142",
   "metadata": {},
   "outputs": [],
   "source": [
    "model = Sequential()\n",
    "model.add(Dense(256, activation='relu', input_shape=(132,)))  # Adjust input_shape as per your input data\n",
    "model.add(Dropout(0.5))\n",
    "model.add(Dense(128, activation='relu'))\n",
    "model.add(Dropout(0.5))\n",
    "model.add(Dense(41, activation='softmax'))  # 41 classes\n",
    "\n",
    "# Compile the model with sparse_categorical_crossentropy\n",
    "model.compile(optimizer=tf.keras.optimizers.Adam(), \n",
    "              loss='sparse_categorical_crossentropy',  # For integer-encoded labels\n",
    "              metrics=['accuracy'])"
   ]
  },
  {
   "cell_type": "markdown",
   "id": "00303ab3-0406-40e0-a2c8-3d936af92fb2",
   "metadata": {},
   "source": [
    "##\n",
    "# Fitting our Model"
   ]
  },
  {
   "cell_type": "code",
   "execution_count": 18,
   "id": "756aeedd-218b-4940-8c9f-a1d83b3a20f1",
   "metadata": {},
   "outputs": [
    {
     "name": "stdout",
     "output_type": "stream",
     "text": [
      "Epoch 1/20\n",
      "689/689 [==============================] - 1s 962us/step - loss: 1.1445 - accuracy: 0.7767\n",
      "Epoch 2/20\n",
      "689/689 [==============================] - 1s 941us/step - loss: 0.0715 - accuracy: 0.9895\n",
      "Epoch 3/20\n",
      "689/689 [==============================] - 1s 849us/step - loss: 0.0323 - accuracy: 0.9954\n",
      "Epoch 4/20\n",
      "689/689 [==============================] - 1s 908us/step - loss: 0.0173 - accuracy: 0.9974\n",
      "Epoch 5/20\n",
      "689/689 [==============================] - 1s 1ms/step - loss: 0.0134 - accuracy: 0.9977\n",
      "Epoch 6/20\n",
      "689/689 [==============================] - 1s 908us/step - loss: 0.0120 - accuracy: 0.9974\n",
      "Epoch 7/20\n",
      "689/689 [==============================] - 1s 858us/step - loss: 0.0132 - accuracy: 0.9965\n",
      "Epoch 8/20\n",
      "689/689 [==============================] - 1s 835us/step - loss: 0.0063 - accuracy: 0.9991\n",
      "Epoch 9/20\n",
      "689/689 [==============================] - 1s 854us/step - loss: 0.0042 - accuracy: 0.9994\n",
      "Epoch 10/20\n",
      "689/689 [==============================] - 1s 816us/step - loss: 0.0042 - accuracy: 0.9991\n",
      "Epoch 11/20\n",
      "689/689 [==============================] - 1s 888us/step - loss: 0.0048 - accuracy: 0.9988\n",
      "Epoch 12/20\n",
      "689/689 [==============================] - 1s 1ms/step - loss: 0.0042 - accuracy: 0.9997\n",
      "Epoch 13/20\n",
      "689/689 [==============================] - 1s 884us/step - loss: 0.0048 - accuracy: 0.9991\n",
      "Epoch 14/20\n",
      "689/689 [==============================] - 1s 899us/step - loss: 0.0031 - accuracy: 0.9994\n",
      "Epoch 15/20\n",
      "689/689 [==============================] - 1s 901us/step - loss: 0.0054 - accuracy: 0.9983\n",
      "Epoch 16/20\n",
      "689/689 [==============================] - 1s 909us/step - loss: 0.0030 - accuracy: 0.9991\n",
      "Epoch 17/20\n",
      "689/689 [==============================] - 1s 988us/step - loss: 0.0019 - accuracy: 0.9994\n",
      "Epoch 18/20\n",
      "689/689 [==============================] - 1s 924us/step - loss: 0.0037 - accuracy: 0.9988\n",
      "Epoch 19/20\n",
      "689/689 [==============================] - 1s 879us/step - loss: 0.0043 - accuracy: 0.9985\n",
      "Epoch 20/20\n",
      "689/689 [==============================] - 1s 907us/step - loss: 0.0014 - accuracy: 0.9994\n"
     ]
    }
   ],
   "source": [
    "hist = model.fit(np.array(xtrain), np.array(ytrain,), epochs=20, batch_size=5, verbose=1)"
   ]
  },
  {
   "cell_type": "markdown",
   "id": "a5aced05-8d2f-4250-a25b-1067b0769ebe",
   "metadata": {},
   "source": [
    "##\n",
    "# Evaluating the Model"
   ]
  },
  {
   "cell_type": "code",
   "execution_count": 19,
   "id": "3d6667ad-a19d-4721-bde2-69b890f8b7a0",
   "metadata": {},
   "outputs": [
    {
     "name": "stdout",
     "output_type": "stream",
     "text": [
      "47/47 [==============================] - 0s 729us/step - loss: 4.2482e-08 - accuracy: 1.0000\n"
     ]
    },
    {
     "data": {
      "text/plain": [
       "[4.2481886453060724e-08, 1.0]"
      ]
     },
     "execution_count": 19,
     "metadata": {},
     "output_type": "execute_result"
    }
   ],
   "source": [
    "model.evaluate(xtest,ytest)"
   ]
  },
  {
   "cell_type": "code",
   "execution_count": 30,
   "id": "4560c4fe-3ea1-4157-9f62-619991bb9509",
   "metadata": {},
   "outputs": [],
   "source": [
    "import numpy as np\n",
    "import spacy"
   ]
  },
  {
   "cell_type": "markdown",
   "id": "b6138a9f-007d-4df1-8e00-aa9e3cd0baee",
   "metadata": {},
   "source": [
    "##\n",
    "# Saving and Loading the Model"
   ]
  },
  {
   "cell_type": "code",
   "execution_count": 31,
   "id": "94cac2d2-1210-4b92-8dd6-0b1da19b7ef4",
   "metadata": {},
   "outputs": [],
   "source": [
    "from tensorflow.keras.models import load_model"
   ]
  },
  {
   "cell_type": "code",
   "execution_count": 32,
   "id": "0b36554f-9693-48d0-be3f-e52ea9e61d27",
   "metadata": {},
   "outputs": [],
   "source": [
    "# Assuming 'model' is your trained TensorFlow/Keras model\n",
    "model.save('bot.h5')\n"
   ]
  },
  {
   "cell_type": "code",
   "execution_count": 33,
   "id": "d3b7e420-6c31-472c-b8a9-648074ddf035",
   "metadata": {},
   "outputs": [
    {
     "data": {
      "text/plain": [
       "Index(['itching', 'skin_rash', 'nodal_skin_eruptions', 'continuous_sneezing',\n",
       "       'shivering', 'chills', 'joint_pain', 'stomach_pain', 'acidity',\n",
       "       'ulcers_on_tongue',\n",
       "       ...\n",
       "       'pus_filled_pimples', 'blackheads', 'scurring', 'skin_peeling',\n",
       "       'silver_like_dusting', 'small_dents_in_nails', 'inflammatory_nails',\n",
       "       'blister', 'red_sore_around_nose', 'yellow_crust_ooze'],\n",
       "      dtype='object', length=132)"
      ]
     },
     "execution_count": 33,
     "metadata": {},
     "output_type": "execute_result"
    }
   ],
   "source": [
    "sym = df.columns\n",
    "sym = sym[:-1]\n",
    "sym"
   ]
  },
  {
   "cell_type": "code",
   "execution_count": 166,
   "id": "349299c0-17cb-4a6d-839e-115981aac532",
   "metadata": {},
   "outputs": [
    {
     "data": {
      "text/plain": [
       "array(['Fungal infection', 'Allergy', 'GERD', 'Chronic cholestasis',\n",
       "       'Drug Reaction', 'Peptic ulcer diseae', 'AIDS', 'Diabetes ',\n",
       "       'Gastroenteritis', 'Bronchial Asthma', 'Hypertension ', 'Migraine',\n",
       "       'Cervical spondylosis', 'Paralysis (brain hemorrhage)', 'Jaundice',\n",
       "       'Malaria', 'Chicken pox', 'Dengue', 'Typhoid', 'hepatitis A',\n",
       "       'Hepatitis B', 'Hepatitis C', 'Hepatitis D', 'Hepatitis E',\n",
       "       'Alcoholic hepatitis', 'Tuberculosis', 'Common Cold', 'Pneumonia',\n",
       "       'Dimorphic hemmorhoids(piles)', 'Heart attack', 'Varicose veins',\n",
       "       'Hypothyroidism', 'Hyperthyroidism', 'Hypoglycemia',\n",
       "       'Osteoarthristis', 'Arthritis',\n",
       "       '(vertigo) Paroymsal  Positional Vertigo', 'Acne',\n",
       "       'Urinary tract infection', 'Psoriasis', 'Impetigo'], dtype=object)"
      ]
     },
     "execution_count": 166,
     "metadata": {},
     "output_type": "execute_result"
    }
   ],
   "source": [
    "df['prognosis'].unique()"
   ]
  },
  {
   "cell_type": "code",
   "execution_count": 44,
   "id": "c13b8b14-272b-4765-a2d8-a37cb9edb4c7",
   "metadata": {},
   "outputs": [
    {
     "name": "stdout",
     "output_type": "stream",
     "text": [
      "{'itching': 0, 'skin_rash': 1, 'nodal_skin_eruptions': 2, 'continuous_sneezing': 3, 'shivering': 4, 'chills': 5, 'joint_pain': 6, 'stomach_pain': 7, 'acidity': 8, 'ulcers_on_tongue': 9, 'muscle_wasting': 10, 'vomiting': 11, 'burning_micturition': 12, 'spotting_ urination': 13, 'fatigue': 14, 'weight_gain': 15, 'anxiety': 16, 'cold_hands_and_feets': 17, 'mood_swings': 18, 'weight_loss': 19, 'restlessness': 20, 'lethargy': 21, 'patches_in_throat': 22, 'irregular_sugar_level': 23, 'cough': 24, 'high_fever': 25, 'sunken_eyes': 26, 'breathlessness': 27, 'sweating': 28, 'dehydration': 29, 'indigestion': 30, 'headache': 31, 'yellowish_skin': 32, 'dark_urine': 33, 'nausea': 34, 'loss_of_appetite': 35, 'pain_behind_the_eyes': 36, 'back_pain': 37, 'constipation': 38, 'abdominal_pain': 39, 'diarrhoea': 40, 'mild_fever': 41, 'yellow_urine': 42, 'yellowing_of_eyes': 43, 'acute_liver_failure': 44, 'fluid_overload': 45, 'swelling_of_stomach': 46, 'swelled_lymph_nodes': 47, 'malaise': 48, 'blurred_and_distorted_vision': 49, 'phlegm': 50, 'throat_irritation': 51, 'redness_of_eyes': 52, 'sinus_pressure': 53, 'runny_nose': 54, 'congestion': 55, 'chest_pain': 56, 'weakness_in_limbs': 57, 'fast_heart_rate': 58, 'pain_during_bowel_movements': 59, 'pain_in_anal_region': 60, 'bloody_stool': 61, 'irritation_in_anus': 62, 'neck_pain': 63, 'dizziness': 64, 'cramps': 65, 'bruising': 66, 'obesity': 67, 'swollen_legs': 68, 'swollen_blood_vessels': 69, 'puffy_face_and_eyes': 70, 'enlarged_thyroid': 71, 'brittle_nails': 72, 'swollen_extremeties': 73, 'excessive_hunger': 74, 'extra_marital_contacts': 75, 'drying_and_tingling_lips': 76, 'slurred_speech': 77, 'knee_pain': 78, 'hip_joint_pain': 79, 'muscle_weakness': 80, 'stiff_neck': 81, 'swelling_joints': 82, 'movement_stiffness': 83, 'spinning_movements': 84, 'loss_of_balance': 85, 'unsteadiness': 86, 'weakness_of_one_body_side': 87, 'loss_of_smell': 88, 'bladder_discomfort': 89, 'foul_smell_of urine': 90, 'continuous_feel_of_urine': 91, 'passage_of_gases': 92, 'internal_itching': 93, 'toxic_look_(typhos)': 94, 'depression': 95, 'irritability': 96, 'muscle_pain': 97, 'altered_sensorium': 98, 'red_spots_over_body': 99, 'belly_pain': 100, 'abnormal_menstruation': 101, 'dischromic _patches': 102, 'watering_from_eyes': 103, 'increased_appetite': 104, 'polyuria': 105, 'family_history': 106, 'mucoid_sputum': 107, 'rusty_sputum': 108, 'lack_of_concentration': 109, 'visual_disturbances': 110, 'receiving_blood_transfusion': 111, 'receiving_unsterile_injections': 112, 'coma': 113, 'stomach_bleeding': 114, 'distention_of_abdomen': 115, 'history_of_alcohol_consumption': 116, 'fluid_overload.1': 117, 'blood_in_sputum': 118, 'prominent_veins_on_calf': 119, 'palpitations': 120, 'painful_walking': 121, 'pus_filled_pimples': 122, 'blackheads': 123, 'scurring': 124, 'skin_peeling': 125, 'silver_like_dusting': 126, 'small_dents_in_nails': 127, 'inflammatory_nails': 128, 'blister': 129, 'red_sore_around_nose': 130, 'yellow_crust_ooze': 131}\n"
     ]
    }
   ],
   "source": [
    "# Your list of symptoms\n",
    "symptom_list = list(sym)\n",
    "\n",
    "# Creating a dictionary where each symptom maps to an index\n",
    "sym_dict = {symptom: index for index, symptom in enumerate(symptom_list)}\n",
    "\n",
    "# Print the generated symptom dictionary\n",
    "print(sym_dict)\n"
   ]
  },
  {
   "cell_type": "code",
   "execution_count": 94,
   "id": "fd26c8a3-b332-422b-b070-c4877a2bd2fa",
   "metadata": {},
   "outputs": [
    {
     "data": {
      "text/plain": [
       "['label_encoder.pkl']"
      ]
     },
     "execution_count": 94,
     "metadata": {},
     "output_type": "execute_result"
    }
   ],
   "source": [
    "import joblib\n",
    "joblib.dump(label_encoder, 'label_encoder.pkl')"
   ]
  },
  {
   "cell_type": "markdown",
   "id": "d91e6010-7be7-474e-88f1-0fbcdfc6be2f",
   "metadata": {},
   "source": [
    "##\n",
    "# Making Predictions using Model"
   ]
  },
  {
   "cell_type": "code",
   "execution_count": 156,
   "id": "428b7b21-abee-42b9-af11-c5dabebe586a",
   "metadata": {},
   "outputs": [],
   "source": [
    "dismap = {'Fungal infection' : \"Description: Infections caused by fungi, affecting skin, nails, and mucous membranes. Prescription: Antifungal medications like Fluconazole or Clotrimazole.\",\n",
    "          'Allergy' : \"Description: An immune response to allergens such as pollen, dust, or certain foods. Prescription: Antihistamines (e.g., Cetirizine), corticosteroids, and decongestants.\",\n",
    "          'GERD' : \"Description: A chronic condition where stomach acid flows back into the esophagus. Prescription: Proton pump inhibitors (PPIs) like Omeprazole or H2 blockers like Ranitidine.\", \n",
    "          'Chronic cholestasis' : \"Description: A condition characterized by impaired bile flow. Prescription: Ursodeoxycholic acid to improve bile flow and reduce symptoms.\",\n",
    "          'Drug Reaction' : \"Description: Adverse reactions to medications, ranging from mild to severe. Prescription: Antihistamines for mild reactions; corticosteroids for severe cases.\",\n",
    "          'Peptic ulcer diseae' : \"Description: Sores that develop on the lining of the stomach or the upper part of the small intestine. Prescription: PPIs like Omeprazole and antibiotics for H. pylori eradication.\",\n",
    "          'AIDS' : \"Description: A chronic condition caused by the HIV virus that weakens the immune system. Prescription: Antiretroviral therapy (ART), including medications like Tenofovir and Efavirenz.\",\n",
    "          'Diabetes ' : \"Description: A chronic condition that affects how the body processes blood sugar (glucose). Prescription: Insulin or oral medications like Metformin.\",\n",
    "          'Gastroenteritis' : \"Description: Inflammation of the stomach and intestines, often caused by infections. Prescription: Hydration, and in some cases, antibiotics (if bacterial).\",\n",
    "          'Bronchial Asthma' : \"Description: A condition causing wheezing, shortness of breath, and coughing due to airway inflammation. Prescription: Inhaled corticosteroids (e.g., Fluticasone) and bronchodilators (e.g., Albuterol).\",\n",
    "          'Hypertension ' : \"Description: High blood pressure, increasing the risk of heart disease and stroke. Prescription: Antihypertensive medications like Lisinopril or Amlodipine.\", \n",
    "          'Migraine' : \"Description: Severe, recurring headaches often accompanied by nausea and sensitivity to light. Prescription: Triptans (e.g., Sumatriptan) or preventive medications like Propranolol.\",\n",
    "          'Cervical spondylosis' : \"Description: Age-related wear and tear affecting spinal discs in the neck. Prescription: Pain relievers (e.g., NSAIDs) and physical therapy.\",\n",
    "          'Paralysis (brain hemorrhage)' : \"Description: Loss of muscle function due to bleeding in the brain. Prescription: Depends on severity; may require rehabilitation and medications to control blood pressure.\",\n",
    "          'Jaundice' : \"Description: Yellowing of the skin and eyes due to liver dysfunction or bile duct obstruction. Prescription: Treatment targets the underlying cause; may involve medications for liver health.\",\n",
    "          'Malaria' : \"Description: A disease caused by parasites transmitted through mosquito bites. Prescription: Antimalarial medications like Chloroquine or Artemisinin-based combination therapies (ACTs).\",\n",
    "          'Chicken pox' : \"Description: A highly contagious viral infection causing an itchy rash and flu-like symptoms. Prescription: Antihistamines for itching and Acetaminophen for fever; antiviral medications in severe cases.\",\n",
    "          'Dengue' : \"Description: A mosquito-borne viral infection causing flu-like symptoms and severe headaches. Prescription: Supportive care; no specific antiviral treatment; hydration and pain relief with Acetaminophen.\",\n",
    "          'Typhoid' : \"Description: A bacterial infection caused by Salmonella typhi, leading to fever and gastrointestinal issues. Prescription: Antibiotics such as Ciprofloxacin or Azithromycin.\",\n",
    "          'hepatitis A' : \"Description: A viral infection affecting the liver, usually spread through contaminated food or water. Prescription: Supportive care; vaccination for prevention.\",\n",
    "          'Hepatitis B':\"Description: A serious liver infection caused by the hepatitis B virus, often spread through bodily fluids. Prescription: Antivirals like Tenofovir or Entecavir.\",\n",
    "          'Hepatitis C':\"Description: A viral infection affecting the liver, leading to chronic liver disease. Prescription: Direct-acting antiviral (DAA) medications like Sofosbuvir.\", \n",
    "    'Hepatitis D':\"Description: A liver infection caused by the hepatitis D virus, only occurring in those infected with hepatitis B. Prescription: Antiviral therapy targeting hepatitis B.\", \n",
    "    'Hepatitis E':\"Description: A viral infection caused by the hepatitis E virus, usually spread through contaminated water. Prescription: Supportive care; vaccination available in some countries.\",\n",
    "    'Alcoholic hepatitis':\"Description: Inflammation of the liver caused by excessive alcohol consumption. Prescription: Corticosteroids or pentoxifylline in severe cases.\",\n",
    "    'Tuberculosis':\"Description: A bacterial infection primarily affecting the lungs but can spread to other parts of the body. Prescription: A combination of antibiotics like Isoniazid, Rifampicin, Ethambutol, and Pyrazinamide.\",\n",
    "      'Common Cold':\"Description: A viral infection of the upper respiratory tract. Prescription: Symptomatic relief with antihistamines and decongestants.\", \n",
    "      'Pneumonia':\"Description: Infection that inflames air sacs in one or both lungs, which may fill with fluid. Prescription: Antibiotics if bacterial; supportive care for viral pneumonia.\",\n",
    "    'Dimorphic hemmorhoids(piles)':\"Description: Swollen veins in the lower rectum or anus, causing discomfort. Prescription: Topical treatments, fiber supplements, and sitz baths; surgical options in severe cases.\",\n",
    "     'Heart attack':\"Description: A serious condition where blood flow to the heart is blocked. Prescription: Aspirin, beta-blockers, statins, and emergency interventions like angioplasty.\",\n",
    "       'Varicose veins':\"Description: Swollen, twisted veins visible just under the surface of the skin. Prescription: Compression stockings, lifestyle changes, and sclerotherapy.\",\n",
    "        'Hypothyroidism':\"Description: A condition where the thyroid gland does not produce enough hormones. Prescription: Thyroid hormone replacement therapy (e.g., Levothyroxine).\",\n",
    "     'Hyperthyroidism':\"Description: A condition where the thyroid gland is overactive and produces too much hormone. Prescription: Antithyroid medications (e.g., Methimazole) or radioactive iodine.\",\n",
    "       'Hypoglycemia':\"Description: Low blood sugar levels, leading to symptoms like dizziness and sweating. Prescription: Glucose tablets or gel, and dietary management to maintain stable blood sugar.\",\n",
    "    'Osteoarthristis':\"Description: Degenerative joint disease causing pain and stiffness. Prescription: Pain relievers (e.g., NSAIDs) and physical therapy.\", \n",
    "    'Arthritis':\"Description: Inflammation of the joints, causing pain and stiffness. Prescription: NSAIDs, corticosteroids, and disease-modifying antirheumatic drugs (DMARDs) for rheumatoid arthritis.\",\n",
    "    '(vertigo) Paroymsal  Positional Vertigo':\"Description: A common cause of vertigo, characterized by brief episodes of dizziness. Prescription: Vestibular rehabilitation therapy and medications like Meclizine.\",\n",
    "     'Acne':\"Description: A skin condition that occurs when hair follicles become clogged with oil and dead skin cells. Prescription: Topical retinoids, benzoyl peroxide, and antibiotics.\",\n",
    "    'Urinary tract infection':\"Description: An infection in any part of the urinary system, often causing painful urination. Prescription: Antibiotics like Nitrofurantoin or Trimethoprim-sulfamethoxazole.\",\n",
    "     'Psoriasis':\"Description: A chronic autoimmune condition that causes rapid skin cell growth, leading to scaling. Prescription: Topical treatments (e.g., corticosteroids), phototherapy, and systemic medications.\", \n",
    "     'Impetigo':\"Description: A highly contagious bacterial skin infection characterized by red sores. Prescription: Antibiotic ointments (e.g., Mupirocin) or oral antibiotics in severe cases.\"}"
   ]
  },
  {
   "cell_type": "code",
   "execution_count": 159,
   "id": "77ae2223-3090-4373-b461-f19944543e7c",
   "metadata": {},
   "outputs": [
    {
     "name": "stdin",
     "output_type": "stream",
     "text": [
      "Enter your Symptoms:  i have itching skin rash and skin eruptions\n"
     ]
    },
    {
     "name": "stdout",
     "output_type": "stream",
     "text": [
      "Preprocessed Input: ['itch', 'skin', 'rash', 'skin', 'eruption']\n",
      "One-Hot Encoded Input: [1, 1, 0, 0, 0, 0, 0, 0, 0, 0, 0, 0, 0, 0, 0, 0, 0, 0, 0, 0, 0, 0, 0, 0, 0, 0, 0, 0, 0, 1, 0, 0, 0, 0, 0, 0, 0, 0, 0, 0, 0, 0, 0, 0, 0, 0, 0, 0, 0, 0, 0, 0, 0, 0, 0, 0, 0, 0, 0, 0, 0, 0, 0, 0, 0, 0, 0, 0, 0, 0, 0, 0, 0, 0, 0, 0, 0, 0, 0, 0, 0, 0, 0, 0, 0, 0, 0, 0, 0, 0, 0, 0, 0, 0, 0, 0, 0, 0, 0, 0, 0, 0, 0, 0, 0, 0, 0, 0, 0, 0, 0, 0, 0, 0, 0, 0, 0, 0, 0, 0, 0, 0, 0, 0, 0, 0, 0, 0, 0, 0, 0, 0]\n",
      "Sam: [1. 1. 0. 0. 0. 0. 0. 0. 0. 0. 0. 0. 0. 0. 0. 0. 0. 0. 0. 0. 0. 0. 0. 0.\n",
      " 0. 0. 0. 0. 0. 1. 0. 0. 0. 0. 0. 0. 0. 0. 0. 0. 0. 0. 0. 0. 0. 0. 0. 0.\n",
      " 0. 0. 0. 0. 0. 0. 0. 0. 0. 0. 0. 0. 0. 0. 0. 0. 0. 0. 0. 0. 0. 0. 0. 0.\n",
      " 0. 0. 0. 0. 0. 0. 0. 0. 0. 0. 0. 0. 0. 0. 0. 0. 0. 0. 0. 0. 0. 0. 0. 0.\n",
      " 0. 0. 0. 0. 0. 0. 0. 0. 0. 0. 0. 0. 0. 0. 0. 0. 0. 0. 0. 0. 0. 0. 0. 0.\n",
      " 0. 0. 0. 0. 0. 0. 0. 0. 0. 0. 0. 0.]\n",
      "1/1 [==============================] - 0s 28ms/step\n",
      "<class 'str'>\n",
      "['Fungal infection']\n",
      "Description: Infections caused by fungi, affecting skin, nails, and mucous membranes. Prescription: Antifungal medications like Fluconazole or Clotrimazole.\n"
     ]
    }
   ],
   "source": [
    "import re\n",
    "import spacy\n",
    "from difflib import get_close_matches\n",
    "sym_dict = {'itching': 0, 'skin_rash': 1, 'nodal_skin_eruptions': 2, 'continuous_sneezing': 3, 'shivering': 4, 'chills': 5, 'joint_pain': 6, 'stomach_pain': 7, 'acidity': 8, 'ulcers_on_tongue': 9, 'muscle_wasting': 10, 'vomiting': 11, 'burning_micturition': 12, 'spotting_ urination': 13, 'fatigue': 14, 'weight_gain': 15, 'anxiety': 16, 'cold_hands_and_feets': 17, 'mood_swings': 18, 'weight_loss': 19, 'restlessness': 20, 'lethargy': 21, 'patches_in_throat': 22, 'irregular_sugar_level': 23, 'cough': 24, 'high_fever': 25, 'sunken_eyes': 26, 'breathlessness': 27, 'sweating': 28, 'dehydration': 29, 'indigestion': 30, 'headache': 31, 'yellowish_skin': 32, 'dark_urine': 33, 'nausea': 34, 'loss_of_appetite': 35, 'pain_behind_the_eyes': 36, 'back_pain': 37, 'constipation': 38, 'abdominal_pain': 39, 'diarrhoea': 40, 'mild_fever': 41, 'yellow_urine': 42, 'yellowing_of_eyes': 43, 'acute_liver_failure': 44, 'fluid_overload': 45, 'swelling_of_stomach': 46, 'swelled_lymph_nodes': 47, 'malaise': 48, 'blurred_and_distorted_vision': 49, 'phlegm': 50, 'throat_irritation': 51, 'redness_of_eyes': 52, 'sinus_pressure': 53, 'runny_nose': 54, 'congestion': 55, 'chest_pain': 56, 'weakness_in_limbs': 57, 'fast_heart_rate': 58, 'pain_during_bowel_movements': 59, 'pain_in_anal_region': 60, 'bloody_stool': 61, 'irritation_in_anus': 62, 'neck_pain': 63, 'dizziness': 64, 'cramps': 65, 'bruising': 66, 'obesity': 67, 'swollen_legs': 68, 'swollen_blood_vessels': 69, 'puffy_face_and_eyes': 70, 'enlarged_thyroid': 71, 'brittle_nails': 72, 'swollen_extremeties': 73, 'excessive_hunger': 74, 'extra_marital_contacts': 75, 'drying_and_tingling_lips': 76, 'slurred_speech': 77, 'knee_pain': 78, 'hip_joint_pain': 79, 'muscle_weakness': 80, 'stiff_neck': 81, 'swelling_joints': 82, 'movement_stiffness': 83, 'spinning_movements': 84, 'loss_of_balance': 85, 'unsteadiness': 86, 'weakness_of_one_body_side': 87, 'loss_of_smell': 88, 'bladder_discomfort': 89, 'foul_smell_of urine': 90, 'continuous_feel_of_urine': 91, 'passage_of_gases': 92, 'internal_itching': 93, 'toxic_look_(typhos)': 94, 'depression': 95, 'irritability': 96, 'muscle_pain': 97, 'altered_sensorium': 98, 'red_spots_over_body': 99, 'belly_pain': 100, 'abnormal_menstruation': 101, 'dischromic _patches': 102, 'watering_from_eyes': 103, 'increased_appetite': 104, 'polyuria': 105, 'family_history': 106, 'mucoid_sputum': 107, 'rusty_sputum': 108, 'lack_of_concentration': 109, 'visual_disturbances': 110, 'receiving_blood_transfusion': 111, 'receiving_unsterile_injections': 112, 'coma': 113, 'stomach_bleeding': 114, 'distention_of_abdomen': 115, 'history_of_alcohol_consumption': 116, 'fluid_overload.1': 117, 'blood_in_sputum': 118, 'prominent_veins_on_calf': 119, 'palpitations': 120, 'painful_walking': 121, 'pus_filled_pimples': 122, 'blackheads': 123, 'scurring': 124, 'skin_peeling': 125, 'silver_like_dusting': 126, 'small_dents_in_nails': 127, 'inflammatory_nails': 128, 'blister': 129, 'red_sore_around_nose': 130, 'yellow_crust_ooze': 131}\n",
    "# Load SpaCy's small English model\n",
    "nlp = spacy.load(\"en_core_web_sm\")\n",
    "loaded_encoder = joblib.load('label_encoder.pkl')\n",
    "# Example predefined symptom dictionary\n",
    "symptom_dict = sym_dict\n",
    "# Preprocessing function using SpaCy\n",
    "def preprocess(user_input):\n",
    "    # Convert to lowercase\n",
    "    user_input = user_input.lower()\n",
    "    \n",
    "    # Remove special characters and numbers (keeping only letters and spaces)\n",
    "    user_input = re.sub(r'[^a-z\\s]', '', user_input)\n",
    "    \n",
    "    # Tokenize the input using SpaCy\n",
    "    doc = nlp(user_input)\n",
    "    \n",
    "    # Extract lemmas (base form of words) and filter out stopwords\n",
    "    tokens = [token.lemma_ for token in doc if not token.is_stop and not token.is_punct]\n",
    "    \n",
    "    return tokens\n",
    "\n",
    "# Predictions (assumed to be integer labels after prediction)\n",
    "def predict(input):\n",
    "    bot = tf.keras.models.load_model(\"bot.h5\")\n",
    "    predicted_labels = bot.predict(np.expand_dims(input,0))\n",
    "    if(np.max(predicted_labels) < 0.5) :\n",
    "        return \"not found in our Database\"\n",
    "    predicted_classes = predicted_labels.argmax(axis=-1)\n",
    "    \n",
    "    # Convert integer predictions back to original label names\n",
    "    original_labels = loaded_encoder.inverse_transform(predicted_classes)\n",
    "    return original_labels\n",
    "\n",
    "# Function to map symptoms to a one-hot encoded vector\n",
    "def map_symptoms_to_onehot(user_symptoms, symptom_dict):\n",
    "    one_hot_vector = [0] * len(symptom_dict)  # Initialize a zero vector\n",
    "    \n",
    "    for symptom in user_symptoms:\n",
    "        # Fuzzy matching to map user input to known symptoms\n",
    "        match = get_close_matches(symptom, symptom_dict.keys(), n=1, cutoff=0.5)  # Adjust cutoff as needed\n",
    "        if match:\n",
    "            index = symptom_dict[match[0]]\n",
    "            one_hot_vector[index] = 1\n",
    "        else:\n",
    "            print(f\"Symptom '{symptom}' not recognized, skipping.\")\n",
    "    \n",
    "    return one_hot_vector\n",
    "\n",
    "# Example: Taking user input and converting to one-hot encoded input\n",
    "user_input = input(\"Enter your Symptoms: \") \n",
    "cleaned_input = preprocess(user_input)\n",
    "cleanest_input=[i for i in cleaned_input if i != ' ']\n",
    "if len(cleanest_input)>2:\n",
    "    print(\"Preprocessed Input:\", cleaned_input)\n",
    "    \n",
    "    # Map the cleaned input to one-hot encoded vector\n",
    "    one_hot_input = map_symptoms_to_onehot(cleaned_input, symptom_dict)\n",
    "    print(\"One-Hot Encoded Input:\", one_hot_input)\n",
    "    def is_all_zeroes(lst):\n",
    "        return sum(lst) == 0\n",
    "    if(not(is_all_zeroes(one_hot_input))) :\n",
    "        sam =  np.array(one_hot_input,dtype=np.float32)\n",
    "        print(\"Sam:\",sam)\n",
    "        disease = predict(sam)\n",
    "        print(type(disease[0]))\n",
    "        print(disease)\n",
    "        print(dismap.get(disease[0]))\n",
    "    else:\n",
    "        print(\"not valid\")\n",
    "else:\n",
    "    print(\"Please enter more symptoms\")"
   ]
  },
  {
   "cell_type": "code",
   "execution_count": null,
   "id": "1297988b-b126-4b30-90d8-bbd359281055",
   "metadata": {},
   "outputs": [],
   "source": []
  }
 ],
 "metadata": {
  "kernelspec": {
   "display_name": "Python 3 (ipykernel)",
   "language": "python",
   "name": "python3"
  },
  "language_info": {
   "codemirror_mode": {
    "name": "ipython",
    "version": 3
   },
   "file_extension": ".py",
   "mimetype": "text/x-python",
   "name": "python",
   "nbconvert_exporter": "python",
   "pygments_lexer": "ipython3",
   "version": "3.10.12"
  }
 },
 "nbformat": 4,
 "nbformat_minor": 5
}
